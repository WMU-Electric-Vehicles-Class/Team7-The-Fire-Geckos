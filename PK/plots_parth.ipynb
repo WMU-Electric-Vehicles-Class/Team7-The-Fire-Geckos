{
 "cells": [
  {
   "cell_type": "code",
   "execution_count": 1,
   "id": "4beef1f8",
   "metadata": {},
   "outputs": [],
   "source": [
    "import matplotlib.pyplot as plt\n",
    "import pandas as pd \n",
    "import numpy as np "
   ]
  },
  {
   "cell_type": "code",
   "execution_count": 2,
   "id": "7bdd7199",
   "metadata": {},
   "outputs": [],
   "source": [
    "arr1 = np.loadtxt('ftpcol1.txt')"
   ]
  },
  {
   "cell_type": "code",
   "execution_count": 3,
   "id": "0ae11990",
   "metadata": {},
   "outputs": [],
   "source": [
    "time_sec = []\n",
    "speed_mph = []\n",
    "speed_kph = []\n",
    "time_hours = []\n",
    "speed_mps = []"
   ]
  },
  {
   "cell_type": "markdown",
   "id": "1a5fe139",
   "metadata": {},
   "source": [
    "# First Drive Cycle"
   ]
  },
  {
   "cell_type": "code",
   "execution_count": 4,
   "id": "f167d2c9",
   "metadata": {},
   "outputs": [],
   "source": [
    "def variables(array,x,y,z,l,n):\n",
    "    for i in arr1:\n",
    "        x.append(i[0])\n",
    "        y.append(i[1])\n",
    "        l.append(i[0]*0.000277778)\n",
    "        z.append(i[1]*1.60934)\n",
    "        n.append(i[1]*0.44704)"
   ]
  },
  {
   "cell_type": "code",
   "execution_count": 5,
   "id": "ff5d058c",
   "metadata": {},
   "outputs": [],
   "source": [
    "variables(arr1,time_sec,speed_mph,speed_kph,time_hours,speed_mps)"
   ]
  }
 ],
 "metadata": {
  "kernelspec": {
   "display_name": "Python 3",
   "language": "python",
   "name": "python3"
  },
  "language_info": {
   "codemirror_mode": {
    "name": "ipython",
    "version": 3
   },
   "file_extension": ".py",
   "mimetype": "text/x-python",
   "name": "python",
   "nbconvert_exporter": "python",
   "pygments_lexer": "ipython3",
   "version": "3.6.9"
  }
 },
 "nbformat": 4,
 "nbformat_minor": 5
}
